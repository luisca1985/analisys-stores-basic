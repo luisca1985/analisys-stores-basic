{
 "cells": [
  {
   "cell_type": "markdown",
   "metadata": {},
   "source": [
    "# Obtener la información de la tienda\n",
    "\n",
    "Autor: Luis Camilo Jimenez, CEO\n"
   ]
  },
  {
   "cell_type": "markdown",
   "metadata": {},
   "source": [
    "## Librerías"
   ]
  },
  {
   "cell_type": "code",
   "execution_count": 1,
   "metadata": {},
   "outputs": [],
   "source": [
    "import requests\n",
    "from bs4 import BeautifulSoup\n",
    "import json"
   ]
  },
  {
   "cell_type": "markdown",
   "metadata": {},
   "source": [
    "## Listado de productos"
   ]
  },
  {
   "cell_type": "code",
   "execution_count": 2,
   "metadata": {},
   "outputs": [
    {
     "name": "stdout",
     "output_type": "stream",
     "text": [
      "[<h2 class=\"nm-product-name\" itemprop=\"name\">\n",
      "            <a alt=\"//www.tiendasjumbo.co/leche-deslactosada-bol-supermega-litro-x-1300ml-x-6und/p?idsku=23454\" href=\"//www.tiendasjumbo.co/leche-deslactosada-bol-supermega-litro-x-1300ml-x-6und/p?idsku=23454\" title=\"Leche Deslactosada Alqueria Supermegalitro 1.3 L...\">Leche Deslactosada Alqueria Supermegalitro 1.3 L...</a>\n",
      "            <div class=\"nm-product-brand\">\n",
      "\n",
      "                ALQUERIA\n",
      "            </div>\n",
      "        </h2>, <h2 class=\"nm-product-name\" itemprop=\"name\">\n",
      "            <a alt=\"//www.tiendasjumbo.co/leche-deslactosada-alpina-bolsa-x-6und-x-1100ml/p?idsku=23444\" href=\"//www.tiendasjumbo.co/leche-deslactosada-alpina-bolsa-x-6und-x-1100ml/p?idsku=23444\" title=\"Leche Deslactosada Alpina Bolsa x 6und x 1100ml\">Leche Deslactosada Alpina Bolsa x 6und x 1100ml</a>\n",
      "            <div class=\"nm-product-brand\">\n",
      "\n",
      "                ALPINA\n",
      "            </div>\n",
      "        </h2>]\n"
     ]
    }
   ],
   "source": [
    "term = 'leche'\n",
    "url_search = 'https://busqueda.tiendasjumbo.co/busca?q={0}'.format(term)\n",
    "search = requests.get(url_search)\n",
    "soup_search = BeautifulSoup(search.text, \"html5lib\")\n",
    "results = soup_search.find_all('h2',class_=\"nm-product-name\")\n",
    "print(results[:2])"
   ]
  },
  {
   "cell_type": "markdown",
   "metadata": {},
   "source": [
    "## Información del producto\n",
    "\n",
    "Extracción de información: Categorias, imagén, nombre, descripción, precio"
   ]
  },
  {
   "cell_type": "code",
   "execution_count": 3,
   "metadata": {},
   "outputs": [
    {
     "name": "stdout",
     "output_type": "stream",
     "text": [
      "[\n",
      "    {\n",
      "        \"category_1\": \"Leche\",\n",
      "        \"category_2\": \"L\\u00e1cteos, huevos y refrigerados\",\n",
      "        \"description\": \"Te ayuda a una f\\u00e1cil digesti\\u00f3n disminuyendo  molestias pesadez, malestar abdominal\\u00a0causado por la lactosa.\",\n",
      "        \"name\": \"Leche Deslactosada Alqueria Supermegalitro 1.3 L Sixpack\",\n",
      "        \"price\": \"$22.990,00\",\n",
      "        \"url\": \"https://www.tiendasjumbo.co/leche-deslactosada-bol-supermega-litro-x-1300ml-x-6und/p?idsku=23454\",\n",
      "        \"url_image\": \"https://jumbocolombiafood.vteximg.com.br/arquivos/ids/3475888-1000-1000/7702177009659.jpg?v=637145275710500000\"\n",
      "    },\n",
      "    {\n",
      "        \"category_1\": \"Leche\",\n",
      "        \"category_2\": \"L\\u00e1cteos, huevos y refrigerados\",\n",
      "        \"description\": \"Te ayuda a una f\\u00e1cil digesti\\u00f3n disminuyendo  molestias pesadez, malestar abdominal\\u00a0causado por la lactosa.\",\n",
      "        \"name\": \"Leche Deslactosada Alpina Bolsa x 6und x 1100ml\",\n",
      "        \"price\": \"$21.990,00\",\n",
      "        \"url\": \"https://www.tiendasjumbo.co/leche-deslactosada-alpina-bolsa-x-6und-x-1100ml/p?idsku=23444\",\n",
      "        \"url_image\": \"https://jumbocolombiafood.vteximg.com.br/arquivos/ids/3496868-1000-1000/7702001029716.jpg?v=637230819996870000\"\n",
      "    }\n",
      "]\n"
     ]
    }
   ],
   "source": [
    "products = []\n",
    "for index, result in enumerate(results):\n",
    "    product = {}\n",
    "    product[\"url\"] = 'https:'+ result.a.get('href')\n",
    "    # Obtiene la web page\n",
    "    search_product = requests.get(product[\"url\"])\n",
    "    # Soup\n",
    "    soup_product = BeautifulSoup(search_product.text, \"html5lib\")\n",
    "    # Categorías 1 y 2\n",
    "    lis = soup_product.find('div',class_=\"bread-crumb\").find_all('li')\n",
    "    product[\"category_1\"] = lis[3].span.string\n",
    "    product[\"category_2\"] = lis[2].span.string\n",
    "    # Imagen\n",
    "    product[\"url_image\"]=soup_product.find('div',id=\"image\").a.get('href')\n",
    "    # Nombre\n",
    "    product[\"name\"]=soup_product.find('div',class_=\"fn\").string\n",
    "    # Descripción\n",
    "    product[\"description\"]=soup_product.find('div',class_=\"productDescription\").string\n",
    "    # Precio\n",
    "    product[\"price\"]=soup_product.find('div',class_=\"plugin-preco\").find('strong',class_=\"skuBestPrice\").string\n",
    "    # Incluir\n",
    "    products.append(product)\n",
    "    \n",
    "print(json.dumps(products[:2], indent=4, sort_keys=True))"
   ]
  }
 ],
 "metadata": {
  "kernelspec": {
   "display_name": "Python 3",
   "language": "python",
   "name": "python3"
  },
  "language_info": {
   "codemirror_mode": {
    "name": "ipython",
    "version": 3
   },
   "file_extension": ".py",
   "mimetype": "text/x-python",
   "name": "python",
   "nbconvert_exporter": "python",
   "pygments_lexer": "ipython3",
   "version": "3.7.6"
  }
 },
 "nbformat": 4,
 "nbformat_minor": 4
}
